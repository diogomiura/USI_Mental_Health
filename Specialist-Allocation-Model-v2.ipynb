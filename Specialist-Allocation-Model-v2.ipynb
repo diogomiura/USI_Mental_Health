{
 "cells": [
  {
   "cell_type": "markdown",
   "metadata": {},
   "source": [
    "## Hierarchical spatial allocation model for mental health specialist assignments to schools\n",
    "+ Assume specialists will work exclusively within an administrative zone (here using school districts)\n",
    "+ Assume specialists have the same skillset, ie no reason specific specialist needs to be assigned to a specific school / school district\n",
    "+ Each school has some quantifiable need for a specialist, here we assume it is based on (a) neighborhood characteristics and (b) the number of students -> built in room to add school performance metrics"
   ]
  },
  {
   "cell_type": "code",
   "execution_count": 1,
   "metadata": {
    "collapsed": true
   },
   "outputs": [],
   "source": [
    "# load libraries\n",
    "import math\n",
    "import numpy as np\n",
    "import pandas as pd\n",
    "import geopandas as gpd\n",
    "#import shapely.geometry as geom\n",
    "from sklearn.cluster import KMeans\n",
    "\n",
    "import matplotlib.pyplot as plt\n",
    "\n",
    "%matplotlib inline"
   ]
  },
  {
   "cell_type": "code",
   "execution_count": 2,
   "metadata": {
    "collapsed": false
   },
   "outputs": [],
   "source": [
    "### read in base data\n",
    "# NY school districts\n",
    "nysd = gpd.read_file('../inputs/nysd_15d/nysd.shp')\n",
    "# NY school points\n",
    "schools = gpd.read_file('../inputs/Public_School_Locations/public_schools_2011-2012A.geojson')\n",
    "# NY United Hospital Fund zones with 2009 Community Health Survey results and count of schools per zone\n",
    "UHF_CHS = gpd.read_file('../inputs/CHS09_SchoolCount.geojson')\n",
    "\n",
    "### team inputs\n",
    "# socioeconomic data for school districts\n",
    "socioecon = pd.read_pickle('../inputs/team/socioeconomic.pkl')\n",
    "# school data (a) school district graduation rates (b) school attendence and more\n",
    "sd_grad = pd.read_csv('../inputs/team/SD_GRAD.csv')\n",
    "schoolAttend = pd.read_csv('../inputs/team/school_data_and_coords.csv')"
   ]
  },
  {
   "cell_type": "code",
   "execution_count": 3,
   "metadata": {
    "collapsed": false
   },
   "outputs": [],
   "source": [
    "# project school districts to same as schools (WGS84)\n",
    "nysd.to_crs(schools.crs, inplace=True)"
   ]
  },
  {
   "cell_type": "code",
   "execution_count": 4,
   "metadata": {
    "collapsed": false
   },
   "outputs": [],
   "source": [
    "# get lat/lon coordinates for plotting\n",
    "schools['lat'] = schools.geometry.apply(lambda x: x.centroid.y)\n",
    "schools['lon'] = schools.geometry.apply(lambda x: x.centroid.x)"
   ]
  },
  {
   "cell_type": "code",
   "execution_count": 5,
   "metadata": {
    "collapsed": false
   },
   "outputs": [
    {
     "name": "stdout",
     "output_type": "stream",
     "text": [
      "[u'SchoolDist', u'Shape_Area', u'Shape_Leng', 'geometry']\n",
      "\n",
      "[u'ADDRESS', u'ADMIN_DIST', u'ATS_CODE', u'BORO', u'BORONUM', u'City', u'FAX', u'GEO_DISTRI', u'GRADES', u'LOC_CODE', u'MANAGED_BY', u'PRINCIPAL', u'PRIN_PH', u'SCHOOLNAME', u'SCH_TYPE', u'STATE_CODE', u'ZIP', 'geometry', 'lat', 'lon']\n",
      "\n",
      "[u'FIRST_BORO', u'FIRST_UHF_', u'PNTCNT', u'SHAPE_Area', u'SHAPE_Leng', u'UHF34_CODE', u'UHF_CODE', u'UHF_Code_1', u'asthev2', u'asthev2_r', u'asthev2_s', u'bmicat3', u'bmicat3_r', u'bmicat3_s', u'bphigh2', u'bphigh2_r', u'bphigh2_s', u'bpmeds2', u'bpmeds2_r', u'bpmeds2_s', u'cndmal2', u'cndmal2_r', u'cndmal2_s', u'cotest2', u'cotest2_r', u'cotest2_s', u'depres2', u'depres2_r', u'depres2_s', u'diabet2', u'diabet2_r', u'diabet2_s', u'exercs2', u'exercs2_r', u'exercs2_s', u'flusht2', u'flusht2_r', u'flusht2_s', u'fruitv3', u'fruitv3_r', u'fruitv3_s', u'genhlt4', u'genhlt4_r', u'genhlt4_s', 'geometry', u'hivtes3', u'hivtes3_r', u'hivtes3_s', u'insure5', u'insure5_r', u'insure5_s', u'mamtwo2', u'mamtwo2_r', u'mamtwo2_s', u'nomedc2', u'nomedc2_r', u'nomedc2_s', u'papthe2', u'papthe2_r', u'papthe2_s', u'pcarep2', u'pcarep2_r', u'pcarep2_s', u'rdrink2', u'rdrink2_r', u'rdrink2_s', u'rsmoke3', u'rsmoke3_r', u'rsmoke3_s', u'sfhnon2', u'sfhnon2_r', u'sfhnon2_s', u'sugarb3', u'sugarb3_r', u'sugarb3_s', u'waters5', u'waters5_r', u'waters5_s', u'wkwork2', u'wkwork2_r', u'wkwork2_s']\n",
      "\n",
      "['Median income (dollars)', 'Percent high school graduate or higher', \"Percent bachelor's degree or higher\", 'No workers in the past 12 months (%)', '1 worker in the past 12 months (%)', '2 or more workers in the past 12 months (%)']\n",
      "\n",
      "['Unnamed: 0', 'GEO_DISTRI', 'cohort_year', 'total_students', '#_total_grads', 'percent_of_grads']\n"
     ]
    }
   ],
   "source": [
    "# check out input data's columns\n",
    "print nysd.columns.tolist()\n",
    "print \n",
    "print schools.columns.tolist()\n",
    "print \n",
    "print UHF_CHS.columns.tolist()\n",
    "print\n",
    "print socioecon.columns.tolist()\n",
    "print\n",
    "print sd_grad.columns.tolist()"
   ]
  },
  {
   "cell_type": "code",
   "execution_count": 6,
   "metadata": {
    "collapsed": false
   },
   "outputs": [
    {
     "name": "stdout",
     "output_type": "stream",
     "text": [
      "<class 'geopandas.geodataframe.GeoDataFrame'>\n",
      "Int64Index: 1598 entries, 0 to 1597\n",
      "Data columns (total 21 columns):\n",
      "ADDRESS             1598 non-null object\n",
      "ADMIN_DIST          1598 non-null float64\n",
      "ATS_CODE            1598 non-null object\n",
      "BORO                1597 non-null object\n",
      "BORONUM             1598 non-null float64\n",
      "City                1598 non-null object\n",
      "FAX                 1553 non-null object\n",
      "GEO_DISTRI          1598 non-null int64\n",
      "GRADES              1598 non-null object\n",
      "LOC_CODE            1598 non-null object\n",
      "MANAGED_BY          1598 non-null float64\n",
      "PRINCIPAL           1586 non-null object\n",
      "PRIN_PH             1586 non-null object\n",
      "SCHOOLNAME          1598 non-null object\n",
      "SCH_TYPE            1598 non-null object\n",
      "STATE_CODE          1598 non-null object\n",
      "ZIP                 1598 non-null int64\n",
      "geometry            1598 non-null object\n",
      "lat                 1598 non-null float64\n",
      "lon                 1598 non-null float64\n",
      "Total Enrollment    1598 non-null float64\n",
      "dtypes: float64(6), int64(2), object(13)\n",
      "memory usage: 274.7+ KB\n"
     ]
    }
   ],
   "source": [
    "# keeping prototype simple - what other school data do we want to include in this round?\n",
    "schools = gpd.GeoDataFrame(pd.merge(schools, schoolAttend.loc[:,('LOC_CODE', 'Total Enrollment')],\n",
    "                                   left_on='LOC_CODE', right_on='LOC_CODE'))\n",
    "schools.info()"
   ]
  },
  {
   "cell_type": "code",
   "execution_count": null,
   "metadata": {
    "collapsed": true
   },
   "outputs": [],
   "source": [
    "''' More mapping functionality when ready\n",
    "plt.rcParams.update({'font.size': 16})\n",
    "nK = 7\n",
    "# zipcode is a GeoDataFrame of zipcode polygons, calling .plot() returns a pyplot axis object\n",
    "ax = zipcodes.plot(column='wGoodParks_d1', figsize=(16,12), \n",
    "                   scheme='QUANTILES', k=nK, alpha=1, cmap='YlGn')\n",
    "f = ax.get_figure()\n",
    "ax1 = f.add_subplot(111) # this is strictly to add the color bar\n",
    "\n",
    "# sloppy, imagine there's a better way but this works OK for me\n",
    "vals = [round(np.percentile(zipcodes.wGoodParks_d1, c*100/nK), 2) for c in range(nK+1)]\n",
    "grid = np.array([vals, vals])\n",
    "img = ax1.imshow(grid, cmap=plt.get_cmap('YlGn'))\n",
    "\n",
    "cbaxes = f.add_axes([0.21, 0.82, 0.3, 0.05]) \n",
    "cb = plt.colorbar(img, cax = cbaxes, orientation='horizontal', ticks=[0, vals[-1]/2, vals[-1]])\n",
    "cb.set_label('Access to parks \\n(park area / distance to park)')\n",
    "cb.ax.set_xticklabels(['Low', 'Medium','High'])\n",
    "\n",
    "ax.set_xlabel('Easting (feet)')\n",
    "ax.set_ylabel('Northing (feet)')\n",
    "ax.set_title('TASK 4 part 2: Chloropleth of park access metric by zipcdoe')\n",
    "\n",
    "ax1.remove()\n",
    "'''"
   ]
  },
  {
   "cell_type": "code",
   "execution_count": 7,
   "metadata": {
    "collapsed": false
   },
   "outputs": [
    {
     "data": {
      "text/plain": [
       "[<matplotlib.lines.Line2D at 0x7f58b4035fd0>]"
      ]
     },
     "execution_count": 7,
     "metadata": {},
     "output_type": "execute_result"
    },
    {
     "data": {
      "image/png": "[encoded data removed]",
      "text/plain": [
       "<matplotlib.figure.Figure at 0x7f58b4078c50>"
      ]
     },
     "metadata": {},
     "output_type": "display_data"
    }
   ],
   "source": [
    "# f, ax = plt.subplots(figsize=(12,10))\n",
    "ax = nysd.plot(figsize=(12,10))\n",
    "#f = ax.get_figure()\n",
    "#ax1 = f.add_axes(schools.plot())\n",
    "ax.plot(schools.lon, schools.lat, '^', markersize=4)\n",
    "# ax.plot(schools.lon[schools.GEO_DISTRI==0], schools.lat[schools.GEO_DISTRI==0], '^r', markersize=8)"
   ]
  },
  {
   "cell_type": "markdown",
   "metadata": {},
   "source": [
    "### Prepare data\n",
    "+ need to get to single value for \"demand\" at both district and school level"
   ]
  },
  {
   "cell_type": "code",
   "execution_count": 8,
   "metadata": {
    "collapsed": false
   },
   "outputs": [
    {
     "data": {
      "text/html": [
       "<div>\n",
       "<table border=\"1\" class=\"dataframe\">\n",
       "  <thead>\n",
       "    <tr style=\"text-align: right;\">\n",
       "      <th></th>\n",
       "      <th>SchoolDist</th>\n",
       "      <th>Shape_Area</th>\n",
       "      <th>Shape_Leng</th>\n",
       "      <th>geometry</th>\n",
       "    </tr>\n",
       "  </thead>\n",
       "  <tbody>\n",
       "    <tr>\n",
       "      <th>32</th>\n",
       "      <td>10</td>\n",
       "      <td>3282963.20003</td>\n",
       "      <td>7883.372435</td>\n",
       "      <td>(POLYGON ((-73.90893235175379 40.8721573480034...</td>\n",
       "    </tr>\n",
       "  </tbody>\n",
       "</table>\n",
       "</div>"
      ],
      "text/plain": [
       "    SchoolDist     Shape_Area   Shape_Leng  \\\n",
       "32          10  3282963.20003  7883.372435   \n",
       "\n",
       "                                             geometry  \n",
       "32  (POLYGON ((-73.90893235175379 40.8721573480034...  "
      ]
     },
     "execution_count": 8,
     "metadata": {},
     "output_type": "execute_result"
    }
   ],
   "source": [
    "# first check for duplicates of base data\n",
    "nysd[nysd.SchoolDist.duplicated()]"
   ]
  },
  {
   "cell_type": "code",
   "execution_count": 9,
   "metadata": {
    "collapsed": false
   },
   "outputs": [
    {
     "data": {
      "text/html": [
       "<div>\n",
       "<table border=\"1\" class=\"dataframe\">\n",
       "  <thead>\n",
       "    <tr style=\"text-align: right;\">\n",
       "      <th></th>\n",
       "      <th>SchoolDist</th>\n",
       "      <th>Shape_Area</th>\n",
       "      <th>Shape_Leng</th>\n",
       "      <th>geometry</th>\n",
       "    </tr>\n",
       "  </thead>\n",
       "  <tbody>\n",
       "    <tr>\n",
       "      <th>22</th>\n",
       "      <td>10</td>\n",
       "      <td>2.825398e+08</td>\n",
       "      <td>94971.138984</td>\n",
       "      <td>POLYGON ((-73.86789043713642 40.90298695418564...</td>\n",
       "    </tr>\n",
       "    <tr>\n",
       "      <th>32</th>\n",
       "      <td>10</td>\n",
       "      <td>3.282963e+06</td>\n",
       "      <td>7883.372435</td>\n",
       "      <td>(POLYGON ((-73.90893235175379 40.8721573480034...</td>\n",
       "    </tr>\n",
       "  </tbody>\n",
       "</table>\n",
       "</div>"
      ],
      "text/plain": [
       "    SchoolDist    Shape_Area    Shape_Leng  \\\n",
       "22          10  2.825398e+08  94971.138984   \n",
       "32          10  3.282963e+06   7883.372435   \n",
       "\n",
       "                                             geometry  \n",
       "22  POLYGON ((-73.86789043713642 40.90298695418564...  \n",
       "32  (POLYGON ((-73.90893235175379 40.8721573480034...  "
      ]
     },
     "execution_count": 9,
     "metadata": {},
     "output_type": "execute_result"
    }
   ],
   "source": [
    "# check duplicates and decide which to delete\n",
    "nysd[nysd.SchoolDist==10]"
   ]
  },
  {
   "cell_type": "code",
   "execution_count": 10,
   "metadata": {
    "collapsed": false
   },
   "outputs": [],
   "source": [
    "# drop little piece of district - could also join it but this is easier and shouldn't matter\n",
    "nysd = gpd.GeoDataFrame(nysd[~(nysd.index==32)])\n",
    "# nysd.info()"
   ]
  },
  {
   "cell_type": "code",
   "execution_count": null,
   "metadata": {
    "collapsed": false
   },
   "outputs": [],
   "source": [
    "#schools.groupby('GEO_DISTRI')['Total Enrollment'].agg({'TotalEnrollment': np.sum, 'SchoolCount': 'count'})"
   ]
  },
  {
   "cell_type": "code",
   "execution_count": 11,
   "metadata": {
    "collapsed": false
   },
   "outputs": [],
   "source": [
    "# join summarized school metrics to districts (prototype just using total enrollment)\n",
    "nysd = pd.merge(nysd, schools.groupby('GEO_DISTRI')['Total Enrollment'].agg({'TotalEnrollment': np.sum, \n",
    "                                                                             'SchoolCount': 'count'}), \n",
    "                left_on='SchoolDist', right_index=True)"
   ]
  },
  {
   "cell_type": "code",
   "execution_count": 12,
   "metadata": {
    "collapsed": false
   },
   "outputs": [
    {
     "data": {
      "text/html": [
       "<div>\n",
       "<table border=\"1\" class=\"dataframe\">\n",
       "  <thead>\n",
       "    <tr style=\"text-align: right;\">\n",
       "      <th></th>\n",
       "      <th>Unnamed: 0</th>\n",
       "      <th>GEO_DISTRI</th>\n",
       "      <th>cohort_year</th>\n",
       "      <th>total_students</th>\n",
       "      <th>#_total_grads</th>\n",
       "      <th>percent_of_grads</th>\n",
       "      <th>NoGradRate</th>\n",
       "    </tr>\n",
       "  </thead>\n",
       "  <tbody>\n",
       "    <tr>\n",
       "      <th>0</th>\n",
       "      <td>0</td>\n",
       "      <td>1</td>\n",
       "      <td>2011</td>\n",
       "      <td>1081</td>\n",
       "      <td>648</td>\n",
       "      <td>0.599445</td>\n",
       "      <td>0.400555</td>\n",
       "    </tr>\n",
       "    <tr>\n",
       "      <th>1</th>\n",
       "      <td>1</td>\n",
       "      <td>2</td>\n",
       "      <td>2011</td>\n",
       "      <td>8539</td>\n",
       "      <td>6170</td>\n",
       "      <td>0.722567</td>\n",
       "      <td>0.277433</td>\n",
       "    </tr>\n",
       "  </tbody>\n",
       "</table>\n",
       "</div>"
      ],
      "text/plain": [
       "   Unnamed: 0  GEO_DISTRI  cohort_year  total_students  #_total_grads  \\\n",
       "0           0           1         2011            1081            648   \n",
       "1           1           2         2011            8539           6170   \n",
       "\n",
       "   percent_of_grads  NoGradRate  \n",
       "0          0.599445    0.400555  \n",
       "1          0.722567    0.277433  "
      ]
     },
     "execution_count": 12,
     "metadata": {},
     "output_type": "execute_result"
    }
   ],
   "source": [
    "# add inverse of graduation rate to School Districts\n",
    "sd_grad['NoGradRate'] = 1 - sd_grad.percent_of_grads\n",
    "#sd_grad.reset_index(inplace=True)\n",
    "sd_grad.head(2)"
   ]
  },
  {
   "cell_type": "code",
   "execution_count": 13,
   "metadata": {
    "collapsed": false
   },
   "outputs": [
    {
     "data": {
      "text/html": [
       "<div>\n",
       "<table border=\"1\" class=\"dataframe\">\n",
       "  <thead>\n",
       "    <tr style=\"text-align: right;\">\n",
       "      <th></th>\n",
       "      <th>SchoolDist</th>\n",
       "      <th>Shape_Area</th>\n",
       "      <th>Shape_Leng</th>\n",
       "      <th>geometry</th>\n",
       "      <th>TotalEnrollment</th>\n",
       "      <th>SchoolCount</th>\n",
       "      <th>NoGradRate</th>\n",
       "    </tr>\n",
       "  </thead>\n",
       "  <tbody>\n",
       "    <tr>\n",
       "      <th>0</th>\n",
       "      <td>13</td>\n",
       "      <td>1.048871e+08</td>\n",
       "      <td>86613.431251</td>\n",
       "      <td>POLYGON ((-73.97906084845808 40.70594602847152...</td>\n",
       "      <td>24486</td>\n",
       "      <td>48</td>\n",
       "      <td>0.210472</td>\n",
       "    </tr>\n",
       "    <tr>\n",
       "      <th>1</th>\n",
       "      <td>22</td>\n",
       "      <td>3.855582e+08</td>\n",
       "      <td>271705.210827</td>\n",
       "      <td>(POLYGON ((-73.91990064336095 40.5996005216209...</td>\n",
       "      <td>33847</td>\n",
       "      <td>39</td>\n",
       "      <td>0.182066</td>\n",
       "    </tr>\n",
       "    <tr>\n",
       "      <th>2</th>\n",
       "      <td>1</td>\n",
       "      <td>3.516415e+07</td>\n",
       "      <td>28625.358551</td>\n",
       "      <td>POLYGON ((-73.97177410965313 40.7258212813704,...</td>\n",
       "      <td>13021</td>\n",
       "      <td>35</td>\n",
       "      <td>0.400555</td>\n",
       "    </tr>\n",
       "    <tr>\n",
       "      <th>3</th>\n",
       "      <td>9</td>\n",
       "      <td>8.344409e+07</td>\n",
       "      <td>46648.227687</td>\n",
       "      <td>POLYGON ((-73.92129719686139 40.85428933988983...</td>\n",
       "      <td>35651</td>\n",
       "      <td>71</td>\n",
       "      <td>0.346900</td>\n",
       "    </tr>\n",
       "    <tr>\n",
       "      <th>4</th>\n",
       "      <td>32</td>\n",
       "      <td>5.203075e+07</td>\n",
       "      <td>37200.403801</td>\n",
       "      <td>POLYGON ((-73.91180710069432 40.70343495205995...</td>\n",
       "      <td>12954</td>\n",
       "      <td>27</td>\n",
       "      <td>0.440439</td>\n",
       "    </tr>\n",
       "  </tbody>\n",
       "</table>\n",
       "</div>"
      ],
      "text/plain": [
       "   SchoolDist    Shape_Area     Shape_Leng  \\\n",
       "0          13  1.048871e+08   86613.431251   \n",
       "1          22  3.855582e+08  271705.210827   \n",
       "2           1  3.516415e+07   28625.358551   \n",
       "3           9  8.344409e+07   46648.227687   \n",
       "4          32  5.203075e+07   37200.403801   \n",
       "\n",
       "                                            geometry  TotalEnrollment  \\\n",
       "0  POLYGON ((-73.97906084845808 40.70594602847152...            24486   \n",
       "1  (POLYGON ((-73.91990064336095 40.5996005216209...            33847   \n",
       "2  POLYGON ((-73.97177410965313 40.7258212813704,...            13021   \n",
       "3  POLYGON ((-73.92129719686139 40.85428933988983...            35651   \n",
       "4  POLYGON ((-73.91180710069432 40.70343495205995...            12954   \n",
       "\n",
       "   SchoolCount  NoGradRate  \n",
       "0           48    0.210472  \n",
       "1           39    0.182066  \n",
       "2           35    0.400555  \n",
       "3           71    0.346900  \n",
       "4           27    0.440439  "
      ]
     },
     "execution_count": 13,
     "metadata": {},
     "output_type": "execute_result"
    }
   ],
   "source": [
    "nysd = pd.merge(nysd, sd_grad.loc[:,('NoGradRate', 'GEO_DISTRI')], left_on='SchoolDist', right_on='GEO_DISTRI')\n",
    "nysd.drop('GEO_DISTRI', inplace=True, axis=1)\n",
    "nysd.head()"
   ]
  },
  {
   "cell_type": "code",
   "execution_count": 14,
   "metadata": {
    "collapsed": false
   },
   "outputs": [
    {
     "data": {
      "text/html": [
       "<div>\n",
       "<table border=\"1\" class=\"dataframe\">\n",
       "  <thead>\n",
       "    <tr style=\"text-align: right;\">\n",
       "      <th></th>\n",
       "      <th>Median income (dollars)</th>\n",
       "      <th>Percent high school graduate or higher</th>\n",
       "      <th>Percent bachelor's degree or higher</th>\n",
       "      <th>No workers in the past 12 months (%)</th>\n",
       "      <th>1 worker in the past 12 months (%)</th>\n",
       "      <th>2 or more workers in the past 12 months (%)</th>\n",
       "      <th>RelMedInc</th>\n",
       "      <th>PctNoWorkers</th>\n",
       "      <th>PctHSorLess</th>\n",
       "    </tr>\n",
       "    <tr>\n",
       "      <th>District</th>\n",
       "      <th></th>\n",
       "      <th></th>\n",
       "      <th></th>\n",
       "      <th></th>\n",
       "      <th></th>\n",
       "      <th></th>\n",
       "      <th></th>\n",
       "      <th></th>\n",
       "      <th></th>\n",
       "    </tr>\n",
       "  </thead>\n",
       "  <tbody>\n",
       "    <tr>\n",
       "      <th>1</th>\n",
       "      <td>62768.0</td>\n",
       "      <td>81.104037</td>\n",
       "      <td>53.416856</td>\n",
       "      <td>8.261980</td>\n",
       "      <td>51.841202</td>\n",
       "      <td>39.899057</td>\n",
       "      <td>0.411320</td>\n",
       "      <td>0.082620</td>\n",
       "      <td>0.465831</td>\n",
       "    </tr>\n",
       "    <tr>\n",
       "      <th>2</th>\n",
       "      <td>106625.0</td>\n",
       "      <td>93.831138</td>\n",
       "      <td>75.178477</td>\n",
       "      <td>3.465564</td>\n",
       "      <td>43.683169</td>\n",
       "      <td>52.859406</td>\n",
       "      <td>0.000000</td>\n",
       "      <td>0.034656</td>\n",
       "      <td>0.248215</td>\n",
       "    </tr>\n",
       "    <tr>\n",
       "      <th>3</th>\n",
       "      <td>88067.5</td>\n",
       "      <td>92.018840</td>\n",
       "      <td>69.458436</td>\n",
       "      <td>5.356669</td>\n",
       "      <td>43.628962</td>\n",
       "      <td>51.015984</td>\n",
       "      <td>0.174045</td>\n",
       "      <td>0.053567</td>\n",
       "      <td>0.305416</td>\n",
       "    </tr>\n",
       "    <tr>\n",
       "      <th>4</th>\n",
       "      <td>26578.0</td>\n",
       "      <td>70.032801</td>\n",
       "      <td>24.784914</td>\n",
       "      <td>18.801987</td>\n",
       "      <td>53.137432</td>\n",
       "      <td>28.067204</td>\n",
       "      <td>0.750734</td>\n",
       "      <td>0.188020</td>\n",
       "      <td>0.752151</td>\n",
       "    </tr>\n",
       "    <tr>\n",
       "      <th>5</th>\n",
       "      <td>35583.0</td>\n",
       "      <td>78.727037</td>\n",
       "      <td>31.725147</td>\n",
       "      <td>16.918401</td>\n",
       "      <td>53.103955</td>\n",
       "      <td>29.998254</td>\n",
       "      <td>0.666279</td>\n",
       "      <td>0.169184</td>\n",
       "      <td>0.682749</td>\n",
       "    </tr>\n",
       "  </tbody>\n",
       "</table>\n",
       "</div>"
      ],
      "text/plain": [
       "          Median income (dollars)  Percent high school graduate or higher  \\\n",
       "District                                                                    \n",
       "1                         62768.0                               81.104037   \n",
       "2                        106625.0                               93.831138   \n",
       "3                         88067.5                               92.018840   \n",
       "4                         26578.0                               70.032801   \n",
       "5                         35583.0                               78.727037   \n",
       "\n",
       "          Percent bachelor's degree or higher  \\\n",
       "District                                        \n",
       "1                                   53.416856   \n",
       "2                                   75.178477   \n",
       "3                                   69.458436   \n",
       "4                                   24.784914   \n",
       "5                                   31.725147   \n",
       "\n",
       "          No workers in the past 12 months (%)  \\\n",
       "District                                         \n",
       "1                                     8.261980   \n",
       "2                                     3.465564   \n",
       "3                                     5.356669   \n",
       "4                                    18.801987   \n",
       "5                                    16.918401   \n",
       "\n",
       "          1 worker in the past 12 months (%)  \\\n",
       "District                                       \n",
       "1                                  51.841202   \n",
       "2                                  43.683169   \n",
       "3                                  43.628962   \n",
       "4                                  53.137432   \n",
       "5                                  53.103955   \n",
       "\n",
       "          2 or more workers in the past 12 months (%)  RelMedInc  \\\n",
       "District                                                           \n",
       "1                                           39.899057   0.411320   \n",
       "2                                           52.859406   0.000000   \n",
       "3                                           51.015984   0.174045   \n",
       "4                                           28.067204   0.750734   \n",
       "5                                           29.998254   0.666279   \n",
       "\n",
       "          PctNoWorkers  PctHSorLess  \n",
       "District                             \n",
       "1             0.082620     0.465831  \n",
       "2             0.034656     0.248215  \n",
       "3             0.053567     0.305416  \n",
       "4             0.188020     0.752151  \n",
       "5             0.169184     0.682749  "
      ]
     },
     "execution_count": 14,
     "metadata": {},
     "output_type": "execute_result"
    }
   ],
   "source": [
    "# inverse relative median income\n",
    "socioecon['RelMedInc'] = 1 - (socioecon['Median income (dollars)'] / socioecon['Median income (dollars)'].max())\n",
    "# percent of district's families without employment in last 12 months\n",
    "socioecon['PctNoWorkers'] = socioecon['No workers in the past 12 months (%)'] / 100\n",
    "# percent with high school or less\n",
    "socioecon['PctHSorLess'] = 1 - (socioecon['Percent bachelor\\'s degree or higher'] / 100)\n",
    "socioecon.head()"
   ]
  },
  {
   "cell_type": "code",
   "execution_count": 15,
   "metadata": {
    "collapsed": false
   },
   "outputs": [
    {
     "data": {
      "text/html": [
       "<div>\n",
       "<table border=\"1\" class=\"dataframe\">\n",
       "  <thead>\n",
       "    <tr style=\"text-align: right;\">\n",
       "      <th></th>\n",
       "      <th>SchoolDist</th>\n",
       "      <th>Shape_Area</th>\n",
       "      <th>Shape_Leng</th>\n",
       "      <th>geometry</th>\n",
       "      <th>TotalEnrollment</th>\n",
       "      <th>SchoolCount</th>\n",
       "      <th>NoGradRate</th>\n",
       "      <th>RelMedInc</th>\n",
       "      <th>PctNoWorkers</th>\n",
       "      <th>PctHSorLess</th>\n",
       "    </tr>\n",
       "  </thead>\n",
       "  <tbody>\n",
       "    <tr>\n",
       "      <th>0</th>\n",
       "      <td>13</td>\n",
       "      <td>1.048871e+08</td>\n",
       "      <td>86613.431251</td>\n",
       "      <td>POLYGON ((-73.97906084845808 40.70594602847152...</td>\n",
       "      <td>24486</td>\n",
       "      <td>48</td>\n",
       "      <td>0.210472</td>\n",
       "      <td>0.309688</td>\n",
       "      <td>0.077488</td>\n",
       "      <td>0.454558</td>\n",
       "    </tr>\n",
       "    <tr>\n",
       "      <th>1</th>\n",
       "      <td>22</td>\n",
       "      <td>3.855582e+08</td>\n",
       "      <td>271705.210827</td>\n",
       "      <td>(POLYGON ((-73.91990064336095 40.5996005216209...</td>\n",
       "      <td>33847</td>\n",
       "      <td>39</td>\n",
       "      <td>0.182066</td>\n",
       "      <td>0.425064</td>\n",
       "      <td>0.054133</td>\n",
       "      <td>0.660392</td>\n",
       "    </tr>\n",
       "    <tr>\n",
       "      <th>2</th>\n",
       "      <td>1</td>\n",
       "      <td>3.516415e+07</td>\n",
       "      <td>28625.358551</td>\n",
       "      <td>POLYGON ((-73.97177410965313 40.7258212813704,...</td>\n",
       "      <td>13021</td>\n",
       "      <td>35</td>\n",
       "      <td>0.400555</td>\n",
       "      <td>0.411320</td>\n",
       "      <td>0.082620</td>\n",
       "      <td>0.465831</td>\n",
       "    </tr>\n",
       "    <tr>\n",
       "      <th>3</th>\n",
       "      <td>9</td>\n",
       "      <td>8.344409e+07</td>\n",
       "      <td>46648.227687</td>\n",
       "      <td>POLYGON ((-73.92129719686139 40.85428933988983...</td>\n",
       "      <td>35651</td>\n",
       "      <td>71</td>\n",
       "      <td>0.346900</td>\n",
       "      <td>0.773651</td>\n",
       "      <td>0.155398</td>\n",
       "      <td>0.884145</td>\n",
       "    </tr>\n",
       "    <tr>\n",
       "      <th>4</th>\n",
       "      <td>32</td>\n",
       "      <td>5.203075e+07</td>\n",
       "      <td>37200.403801</td>\n",
       "      <td>POLYGON ((-73.91180710069432 40.70343495205995...</td>\n",
       "      <td>12954</td>\n",
       "      <td>27</td>\n",
       "      <td>0.440439</td>\n",
       "      <td>0.606190</td>\n",
       "      <td>0.163601</td>\n",
       "      <td>0.814616</td>\n",
       "    </tr>\n",
       "  </tbody>\n",
       "</table>\n",
       "</div>"
      ],
      "text/plain": [
       "   SchoolDist    Shape_Area     Shape_Leng  \\\n",
       "0          13  1.048871e+08   86613.431251   \n",
       "1          22  3.855582e+08  271705.210827   \n",
       "2           1  3.516415e+07   28625.358551   \n",
       "3           9  8.344409e+07   46648.227687   \n",
       "4          32  5.203075e+07   37200.403801   \n",
       "\n",
       "                                            geometry  TotalEnrollment  \\\n",
       "0  POLYGON ((-73.97906084845808 40.70594602847152...            24486   \n",
       "1  (POLYGON ((-73.91990064336095 40.5996005216209...            33847   \n",
       "2  POLYGON ((-73.97177410965313 40.7258212813704,...            13021   \n",
       "3  POLYGON ((-73.92129719686139 40.85428933988983...            35651   \n",
       "4  POLYGON ((-73.91180710069432 40.70343495205995...            12954   \n",
       "\n",
       "   SchoolCount  NoGradRate  RelMedInc  PctNoWorkers  PctHSorLess  \n",
       "0           48    0.210472   0.309688      0.077488     0.454558  \n",
       "1           39    0.182066   0.425064      0.054133     0.660392  \n",
       "2           35    0.400555   0.411320      0.082620     0.465831  \n",
       "3           71    0.346900   0.773651      0.155398     0.884145  \n",
       "4           27    0.440439   0.606190      0.163601     0.814616  "
      ]
     },
     "execution_count": 15,
     "metadata": {},
     "output_type": "execute_result"
    }
   ],
   "source": [
    "# add socioeconomic data to school district\n",
    "nysd = pd.merge(nysd, socioecon.loc[:,('RelMedInc', 'PctNoWorkers', 'PctHSorLess')], \n",
    "                left_on='SchoolDist', right_index=True)\n",
    "nysd.head()"
   ]
  },
  {
   "cell_type": "code",
   "execution_count": 16,
   "metadata": {
    "collapsed": false
   },
   "outputs": [
    {
     "data": {
      "text/html": [
       "<div>\n",
       "<table border=\"1\" class=\"dataframe\">\n",
       "  <thead>\n",
       "    <tr style=\"text-align: right;\">\n",
       "      <th></th>\n",
       "      <th>SchoolDist</th>\n",
       "      <th>Shape_Area</th>\n",
       "      <th>Shape_Leng</th>\n",
       "      <th>geometry</th>\n",
       "      <th>TotalEnrollment</th>\n",
       "      <th>SchoolCount</th>\n",
       "      <th>NoGradRate</th>\n",
       "      <th>RelMedInc</th>\n",
       "      <th>PctNoWorkers</th>\n",
       "      <th>PctHSorLess</th>\n",
       "      <th>RelEnroll</th>\n",
       "    </tr>\n",
       "  </thead>\n",
       "  <tbody>\n",
       "    <tr>\n",
       "      <th>0</th>\n",
       "      <td>13</td>\n",
       "      <td>1.048871e+08</td>\n",
       "      <td>86613.431251</td>\n",
       "      <td>POLYGON ((-73.97906084845808 40.70594602847152...</td>\n",
       "      <td>24486</td>\n",
       "      <td>48</td>\n",
       "      <td>0.210472</td>\n",
       "      <td>0.309688</td>\n",
       "      <td>0.077488</td>\n",
       "      <td>0.454558</td>\n",
       "      <td>0.398827</td>\n",
       "    </tr>\n",
       "    <tr>\n",
       "      <th>1</th>\n",
       "      <td>22</td>\n",
       "      <td>3.855582e+08</td>\n",
       "      <td>271705.210827</td>\n",
       "      <td>(POLYGON ((-73.91990064336095 40.5996005216209...</td>\n",
       "      <td>33847</td>\n",
       "      <td>39</td>\n",
       "      <td>0.182066</td>\n",
       "      <td>0.425064</td>\n",
       "      <td>0.054133</td>\n",
       "      <td>0.660392</td>\n",
       "      <td>0.551299</td>\n",
       "    </tr>\n",
       "    <tr>\n",
       "      <th>2</th>\n",
       "      <td>1</td>\n",
       "      <td>3.516415e+07</td>\n",
       "      <td>28625.358551</td>\n",
       "      <td>POLYGON ((-73.97177410965313 40.7258212813704,...</td>\n",
       "      <td>13021</td>\n",
       "      <td>35</td>\n",
       "      <td>0.400555</td>\n",
       "      <td>0.411320</td>\n",
       "      <td>0.082620</td>\n",
       "      <td>0.465831</td>\n",
       "      <td>0.212086</td>\n",
       "    </tr>\n",
       "  </tbody>\n",
       "</table>\n",
       "</div>"
      ],
      "text/plain": [
       "   SchoolDist    Shape_Area     Shape_Leng  \\\n",
       "0          13  1.048871e+08   86613.431251   \n",
       "1          22  3.855582e+08  271705.210827   \n",
       "2           1  3.516415e+07   28625.358551   \n",
       "\n",
       "                                            geometry  TotalEnrollment  \\\n",
       "0  POLYGON ((-73.97906084845808 40.70594602847152...            24486   \n",
       "1  (POLYGON ((-73.91990064336095 40.5996005216209...            33847   \n",
       "2  POLYGON ((-73.97177410965313 40.7258212813704,...            13021   \n",
       "\n",
       "   SchoolCount  NoGradRate  RelMedInc  PctNoWorkers  PctHSorLess  RelEnroll  \n",
       "0           48    0.210472   0.309688      0.077488     0.454558   0.398827  \n",
       "1           39    0.182066   0.425064      0.054133     0.660392   0.551299  \n",
       "2           35    0.400555   0.411320      0.082620     0.465831   0.212086  "
      ]
     },
     "execution_count": 16,
     "metadata": {},
     "output_type": "execute_result"
    }
   ],
   "source": [
    "# Relative enrollment\n",
    "nysd['RelEnroll'] = nysd.TotalEnrollment / nysd.TotalEnrollment.max()\n",
    "nysd.head(3)"
   ]
  },
  {
   "cell_type": "code",
   "execution_count": 17,
   "metadata": {
    "collapsed": false
   },
   "outputs": [
    {
     "name": "stdout",
     "output_type": "stream",
     "text": [
      "confirm unique code for schools 1598 1598\n",
      "and for districts 32 32\n"
     ]
    }
   ],
   "source": [
    "print 'confirm unique code for schools', len(schools), len(schools.LOC_CODE.unique())\n",
    "print 'and for districts', len(nysd), len(nysd.SchoolDist.unique())"
   ]
  },
  {
   "cell_type": "markdown",
   "metadata": {},
   "source": [
    "### District level allocation\n",
    "1. top down model - within district only"
   ]
  },
  {
   "cell_type": "code",
   "execution_count": 18,
   "metadata": {
    "collapsed": false
   },
   "outputs": [],
   "source": [
    "# componenet multipliers - how heavily should each metric be weighted on a 0 - 1 scale?\n",
    "# DOE / school data\n",
    "studentM = 1 # weight for relative number of students\n",
    "gradM = 1 # weight for inverse graduation rate of high schools in district\n",
    "# socioeconomic multipliers\n",
    "incomeM = 0.5 # weight for relative median income\n",
    "employM = 0.5 # weight for percent of district's families that did not have a job in the last 12 months\n",
    "educatM = 0.5 # weight for percent of district with a High School degree or less education\n",
    "\n",
    "# calculate single specialist demand metric from component parts\n",
    "nysd['Demand'] = nysd.loc[:,'RelEnroll']*studentM + nysd.loc[:,'NoGradRate']*gradM + \\\n",
    "nysd.loc[:,'RelMedInc']*incomeM + nysd.loc[:,'PctNoWorkers']*employM + nysd.loc[:,'PctHSorLess']*educatM"
   ]
  },
  {
   "cell_type": "code",
   "execution_count": null,
   "metadata": {
    "collapsed": false
   },
   "outputs": [],
   "source": [
    "nysd.head(1)"
   ]
  },
  {
   "cell_type": "code",
   "execution_count": 19,
   "metadata": {
    "collapsed": false
   },
   "outputs": [],
   "source": [
    "# specialist list for analysis - key set up to handle any number of specialists up to 1,000\n",
    "### How many specialists are we assigning?\n",
    "NumSpecialists = 100 \n",
    "sKeys = ['s' + ('00'+str(i))[-3:] for i in range(NumSpecialists)]"
   ]
  },
  {
   "cell_type": "code",
   "execution_count": 20,
   "metadata": {
    "collapsed": false
   },
   "outputs": [],
   "source": [
    "### make minimum constraint based on ensuring every school has ~1 day per month with a specialist\n",
    "MaxSchoolsPerMonth = 30\n",
    "#print nysd.SchoolCount.sum() / float(len(sKeys))\n",
    "#print sum(np.ceil(nysd.SchoolCount / MaxSchoolsPerMonth))"
   ]
  },
  {
   "cell_type": "code",
   "execution_count": 21,
   "metadata": {
    "collapsed": true
   },
   "outputs": [],
   "source": [
    "# assign specialists to districts \n",
    "# initial step: iterate through list of specialists assigning each to a school district\n",
    "# @Params: \n",
    "### specList = list, agents' (specialists') unique identifiers, will be key of returned dictionary\n",
    "### District = pandas.DataFrame, district within which to assign specialists\n",
    "### Did = district ID column\n",
    "### demandColumn = column name of value to split amongst agents in District DataFrame\n",
    "### locCount = number of physical locations (for us: schools)\n",
    "### maxLocs = maximum number of locations an agent can visit per month (eg 0.5 day per school, ~20 days in a month)\n",
    "# @return - agentDict = {agentID: DistrictCode}\n",
    "# @return - distDict = {DistrictID: {agents: [AgentID]}}\n",
    "def assignToDistrict(agentList, District, Did, demandColumn, locCount, maxLocs):\n",
    "    # temporary DataFrame for function\n",
    "    tmp = pd.DataFrame(District.loc[:,(Did, demandColumn, locCount)])\n",
    "    # get 'optimal' (average) demand per agent\n",
    "    targetDemand = tmp[demandColumn].sum() / len(agentList)\n",
    "    \n",
    "    # 'minAgent' tells how many agents need to be assigned so district does not \n",
    "    ## have more locations than agents can visit\n",
    "    tmp['minAgent'] = np.ceil(tmp[locCount] / maxLocs)\n",
    "    \n",
    "    # once minumum number of agents assigned, demandR is remaining demand\n",
    "    tmp['demandR'] = tmp[demandColumn] - (tmp.minAgent * targetDemand)\n",
    "    # tmp.sort_values(by='demandR', ascending=False, inplace=True) # unnecessary\n",
    "    \n",
    "    # district dictionary for output\n",
    "    distDict = dict(zip(tmp[Did], tmp[Did]))\n",
    "    for i in distDict.keys():\n",
    "        distDict[i] = {} # reset each district to be an object\n",
    "        distDict[i]['agents'] = [] # create array to hold agent IDs\n",
    "    \n",
    "    # agent dictionary to for output assignments\n",
    "    agentDict = {}\n",
    "    # iterate through agent IDs assigning to districts based on minumum agent number, then demand remaining\n",
    "    Didx = 0 # row index to track which is *this* District\n",
    "    aN = 0 # number of assigned agents for *this* district\n",
    "    for a in agentList:\n",
    "        #print 'agent ', a\n",
    "        if aN < tmp.loc[Didx:Didx, :]['minAgent'].values[0]:\n",
    "            agentDict[a] = {'district': ''}\n",
    "            agentDict[a]['district'] = tmp.loc[Didx:Didx, :][Did].values[0]\n",
    "            distDict[agentDict[a]['district']]['agents'].append(a) # add agent ID to agents serving this district\n",
    "            aN += 1\n",
    "#            print '1. assigned to {0} | aN={1} | minAgent={2} | Didx={3} |demandR={4}'.format(\\\n",
    "#agentDict[a], aN, tmp.loc[Didx:Didx, :]['minAgent'].values, Didx, tmp.loc[Didx:Didx, :]['demandR'].values)\n",
    "        # have filled minimum quota of agents for *this* district\n",
    "        else:\n",
    "            # is there another district?\n",
    "            if Didx < tmp.index.max():\n",
    "                Didx += 1 # go to the next district\n",
    "                aN = 0 # reset agent counter for new district\n",
    "                agentDict[a] = {'district': ''}\n",
    "                agentDict[a]['district'] = tmp.loc[Didx:Didx, :][Did].values[0]\n",
    "                distDict[agentDict[a]['district']]['agents'].append(a) # add agent ID to agents serving this district\n",
    "                aN += 1\n",
    "#                print '2. assigned to {0} | aN={1} | minAgent={2} | Didx={3} |demandR={4}'.format(\\\n",
    "#agentDict[a], aN, tmp.loc[Didx:Didx, :]['minAgent'].values, Didx, tmp.loc[Didx:Didx, :]['demandR'].values)\n",
    "            # made it through minimum number for all districts, now assign agents based on remaining demand\n",
    "            else: \n",
    "                agentDict[a] = {'district': ''}\n",
    "                agentDict[a]['district'] = tmp.loc[tmp['demandR'].idxmax():tmp['demandR'].idxmax(), :][Did].values[0]\n",
    "                distDict[agentDict[a]['district']]['agents'].append(a) # add agent ID to agents serving this district\n",
    "                # and decrement assigned district's remaining demand\n",
    "                tmp.loc[tmp['demandR'].idxmax():tmp['demandR'].idxmax(), 'demandR'] -= targetDemand\n",
    "                #print '3. assigned to {0} | aN={1} | minAgent={2} | Didx={3} |demandR={4}'.format(\\\n",
    "#agentDict[a], aN, tmp.loc[Didx:Didx, :]['minAgent'].values, Didx, tmp.loc[Didx:Didx, :]['demandR'].values)\n",
    "    # return dictionary of assigned agents\n",
    "    return (agentDict, distDict)"
   ]
  },
  {
   "cell_type": "code",
   "execution_count": 22,
   "metadata": {
    "collapsed": false
   },
   "outputs": [],
   "source": [
    "specialistAssignments, districtAssign = assignToDistrict(sKeys, nysd, 'SchoolDist', \n",
    "                                                         'Demand', 'SchoolCount', MaxSchoolsPerMonth)"
   ]
  },
  {
   "cell_type": "code",
   "execution_count": 23,
   "metadata": {
    "collapsed": false
   },
   "outputs": [
    {
     "data": {
      "text/plain": [
       "{'district': 4}"
      ]
     },
     "execution_count": 23,
     "metadata": {},
     "output_type": "execute_result"
    }
   ],
   "source": [
    "specialistAssignments['s049']"
   ]
  },
  {
   "cell_type": "code",
   "execution_count": 24,
   "metadata": {
    "collapsed": false
   },
   "outputs": [],
   "source": [
    "# check how deterministic assignment performed - decent\n",
    "avgDemand = []\n",
    "avgSchools = []\n",
    "for k in districtAssign.keys():\n",
    "    aNum = len(districtAssign[k]['agents'])\n",
    "    avgDemand.append(nysd[nysd.SchoolDist==k].Demand.values[0]/aNum)\n",
    "    avgSchools.append(nysd[nysd.SchoolDist==k].SchoolCount.values[0]/aNum)\n",
    "    #print 'District {0} has {1} specialists, avg demand = {2:,.2f}'\\\n",
    "    #.format(k, aNum, nysd[nysd.SchoolDist==k].spec_demand.values[0]/aNum)\n",
    "    \n",
    "avgDemand = np.array(avgDemand)\n",
    "avgSchools = np.array(avgSchools)"
   ]
  },
  {
   "cell_type": "code",
   "execution_count": 25,
   "metadata": {
    "collapsed": false
   },
   "outputs": [
    {
     "name": "stdout",
     "output_type": "stream",
     "text": [
      "Demand: mean= 0.49 | std= 0.06\n",
      "Schools per specialist: mean= 16.00 | std= 4.55 | min= 9.0 | max= 28.0\n"
     ]
    },
    {
     "data": {
      "image/png": "[encoded data removed]",
      "text/plain": [
       "<matplotlib.figure.Figure at 0x7f58b3a47690>"
      ]
     },
     "metadata": {},
     "output_type": "display_data"
    }
   ],
   "source": [
    "# check workload distribution numerically and graphically\n",
    "print 'Demand: mean= {0:.2f} | std= {1:.2f}'.format(avgDemand.mean(), avgDemand.std())\n",
    "print 'Schools per specialist: mean= {0:.2f} | std= {1:.2f} | min= {2:.1f} | max= {3:.1f}'\\\n",
    ".format(avgSchools.mean(), avgSchools.std(), avgSchools.min(), avgSchools.max())\n",
    "plt.plot(np.array(range(len(avgDemand))), avgDemand, 'ob')\n",
    "plt.ylim(avgDemand.min()-avgDemand.std(), avgDemand.max()+avgDemand.std())\n",
    "plt.xlim(-1, len(avgDemand)+1)\n",
    "plt.show()"
   ]
  },
  {
   "cell_type": "code",
   "execution_count": 26,
   "metadata": {
    "collapsed": true
   },
   "outputs": [],
   "source": [
    "# distance function to workaround geopandas.distance (dis)functionality\n",
    "# courtesy: https://gist.github.com/rochacbruno/2883505\n",
    "# future version could use travel time here instead of distance... ambitous.\n",
    "def geoDist(lat1, lon1, lat2, lon2):\n",
    "    #print 'lat1 %s | lon1 %s | lat2 %s | lon2 %s' % (lat1, lon1, lat2, lon2)\n",
    "    radius = 6371 # km\n",
    "\n",
    "    dlat = math.radians(lat2-lat1)\n",
    "    dlon = math.radians(lon2-lon1)\n",
    "    a = math.sin(dlat/2) * math.sin(dlat/2) + math.cos(math.radians(lat1)) \\\n",
    "        * math.cos(math.radians(lat2)) * math.sin(dlon/2) * math.sin(dlon/2)\n",
    "    c = 2 * math.atan2(math.sqrt(a), math.sqrt(1-a))\n",
    "    d = radius * c\n",
    "\n",
    "    return d"
   ]
  },
  {
   "cell_type": "markdown",
   "metadata": {},
   "source": [
    "### Within District assignments\n",
    "+ allocate specialists to individual schools"
   ]
  },
  {
   "cell_type": "code",
   "execution_count": 27,
   "metadata": {
    "collapsed": false
   },
   "outputs": [],
   "source": [
    "# test out steps for single school district\n",
    "# 1) cluster District's schools by location\n",
    "dTest = 26\n",
    "km = KMeans(len(districtAssign[dTest]['agents']))\n",
    "tmp = gpd.GeoDataFrame(schools[schools.GEO_DISTRI==dTest].loc[:,('LOC_CODE', 'lat','lon', 'geometry', \n",
    "                                                             'Total Enrollment')])\n",
    "tmp['group'] = km.fit_predict(tmp.loc[:,('lat', 'lon')])"
   ]
  },
  {
   "cell_type": "code",
   "execution_count": 28,
   "metadata": {
    "collapsed": false
   },
   "outputs": [
    {
     "data": {
      "text/html": [
       "<div>\n",
       "<table border=\"1\" class=\"dataframe\">\n",
       "  <thead>\n",
       "    <tr style=\"text-align: right;\">\n",
       "      <th></th>\n",
       "      <th>TotalEnrollment</th>\n",
       "      <th>NumSchools</th>\n",
       "    </tr>\n",
       "    <tr>\n",
       "      <th>group</th>\n",
       "      <th></th>\n",
       "      <th></th>\n",
       "    </tr>\n",
       "  </thead>\n",
       "  <tbody>\n",
       "    <tr>\n",
       "      <th>0</th>\n",
       "      <td>10985</td>\n",
       "      <td>17</td>\n",
       "    </tr>\n",
       "    <tr>\n",
       "      <th>1</th>\n",
       "      <td>23509</td>\n",
       "      <td>21</td>\n",
       "    </tr>\n",
       "  </tbody>\n",
       "</table>\n",
       "</div>"
      ],
      "text/plain": [
       "       TotalEnrollment  NumSchools\n",
       "group                             \n",
       "0                10985          17\n",
       "1                23509          21"
      ]
     },
     "execution_count": 28,
     "metadata": {},
     "output_type": "execute_result"
    }
   ],
   "source": [
    "# 2) check workload characteristics -> next goal is to minimize difference in workload ('students')\n",
    "tmp.groupby('group')['Total Enrollment'].agg({'TotalEnrollment': 'sum', 'NumSchools': 'count'})"
   ]
  },
  {
   "cell_type": "code",
   "execution_count": 29,
   "metadata": {
    "collapsed": false
   },
   "outputs": [
    {
     "data": {
      "text/html": [
       "<div>\n",
       "<table border=\"1\" class=\"dataframe\">\n",
       "  <thead>\n",
       "    <tr style=\"text-align: right;\">\n",
       "      <th></th>\n",
       "      <th>lat</th>\n",
       "      <th>lon</th>\n",
       "    </tr>\n",
       "    <tr>\n",
       "      <th>group</th>\n",
       "      <th></th>\n",
       "      <th></th>\n",
       "    </tr>\n",
       "  </thead>\n",
       "  <tbody>\n",
       "    <tr>\n",
       "      <th>0</th>\n",
       "      <td>40.746060</td>\n",
       "      <td>-73.725497</td>\n",
       "    </tr>\n",
       "    <tr>\n",
       "      <th>1</th>\n",
       "      <td>40.749092</td>\n",
       "      <td>-73.773461</td>\n",
       "    </tr>\n",
       "  </tbody>\n",
       "</table>\n",
       "</div>"
      ],
      "text/plain": [
       "             lat        lon\n",
       "group                      \n",
       "0      40.746060 -73.725497\n",
       "1      40.749092 -73.773461"
      ]
     },
     "execution_count": 29,
     "metadata": {},
     "output_type": "execute_result"
    }
   ],
   "source": [
    "# 3) calculate distance to group center point\n",
    "# 3a) center points\n",
    "gCenters = tmp.groupby(['group'])['lat', 'lon'].mean()\n",
    "#gCenters['geometry'] = gCenters.apply(lambda x: geom.Point(x.lon, x.lat), axis=1)\n",
    "#gCenters = gpd.GeoDataFrame(gCenters)\n",
    "gCenters"
   ]
  },
  {
   "cell_type": "code",
   "execution_count": 30,
   "metadata": {
    "collapsed": false
   },
   "outputs": [
    {
     "data": {
      "image/png": "[encoded data removed]",
      "text/plain": [
       "<matplotlib.figure.Figure at 0x7f58adf050d0>"
      ]
     },
     "metadata": {},
     "output_type": "display_data"
    }
   ],
   "source": [
    "# probably set this aside in a different plotting function\n",
    "ax = gpd.GeoDataFrame(nysd[nysd.SchoolDist==dTest]).plot(figsize=(8,8))\n",
    "cols = ['m', 'y', 'b', 'orange']\n",
    "for i, g in enumerate(tmp.group.unique()):\n",
    "    ax.plot(tmp[tmp.group==g].lon, tmp[tmp.group==g].lat, 'o', c=cols[i])#, c=tmp.group)\n",
    "    ax.plot(gCenters[gCenters.index==g].lon, gCenters[gCenters.index==g].lat, '^', markersize=12, c=cols[i])"
   ]
  },
  {
   "cell_type": "code",
   "execution_count": 31,
   "metadata": {
    "collapsed": false
   },
   "outputs": [],
   "source": [
    "# 3b) calculate school's distance to assigned center point\n",
    "#gCenters.apply(lambda x: x.centroid.distance(tmp.geometry), axis=1)\n",
    "#tmp.geometry.apply(lambda x: x.distance(gCenters.loc[0:0,:]))\n",
    "tmp['gDist'] = tmp.apply(lambda x: geoDist(x.lat, x.lon,\n",
    "                          gCenters.loc[x.group:x.group,'lat'].values[0], \n",
    "                          gCenters.loc[x.group:x.group,'lon'].values[0]),\n",
    "                     axis=1)"
   ]
  },
  {
   "cell_type": "code",
   "execution_count": 32,
   "metadata": {
    "collapsed": false
   },
   "outputs": [],
   "source": [
    "# summarize enrollment to gCenters\n",
    "gCenters = pd.merge(gCenters, tmp.groupby('group')['Total Enrollment'].agg({'TotalEnrollment': 'sum', \n",
    "                                                                           'NumSchools': 'count'}),\n",
    "                   left_index=True, right_index=True)\n",
    "gCenters.sort_values('TotalEnrollment', ascending=False, inplace=True)"
   ]
  },
  {
   "cell_type": "code",
   "execution_count": 33,
   "metadata": {
    "collapsed": false
   },
   "outputs": [
    {
     "data": {
      "text/html": [
       "<div>\n",
       "<table border=\"1\" class=\"dataframe\">\n",
       "  <thead>\n",
       "    <tr style=\"text-align: right;\">\n",
       "      <th></th>\n",
       "      <th>lat</th>\n",
       "      <th>lon</th>\n",
       "      <th>TotalEnrollment</th>\n",
       "      <th>NumSchools</th>\n",
       "    </tr>\n",
       "    <tr>\n",
       "      <th>group</th>\n",
       "      <th></th>\n",
       "      <th></th>\n",
       "      <th></th>\n",
       "      <th></th>\n",
       "    </tr>\n",
       "  </thead>\n",
       "  <tbody>\n",
       "    <tr>\n",
       "      <th>1</th>\n",
       "      <td>40.749092</td>\n",
       "      <td>-73.773461</td>\n",
       "      <td>23509</td>\n",
       "      <td>21</td>\n",
       "    </tr>\n",
       "    <tr>\n",
       "      <th>0</th>\n",
       "      <td>40.746060</td>\n",
       "      <td>-73.725497</td>\n",
       "      <td>10985</td>\n",
       "      <td>17</td>\n",
       "    </tr>\n",
       "  </tbody>\n",
       "</table>\n",
       "</div>"
      ],
      "text/plain": [
       "             lat        lon  TotalEnrollment  NumSchools\n",
       "group                                                   \n",
       "1      40.749092 -73.773461            23509          21\n",
       "0      40.746060 -73.725497            10985          17"
      ]
     },
     "execution_count": 33,
     "metadata": {},
     "output_type": "execute_result"
    }
   ],
   "source": [
    "gCenters"
   ]
  },
  {
   "cell_type": "code",
   "execution_count": 34,
   "metadata": {
    "collapsed": false
   },
   "outputs": [],
   "source": [
    "# 4) reassign schools to even out agent's workload\n",
    "# this is where minimization will come in... somehow\n",
    "# logic:\n",
    "### a. begin with highest workload group -> 'candidates'\n",
    "### b. identify schools farthest from group that \n",
    "######## (i) are closer to other group than *this* group's center point\n",
    "######## (ii) when removed will not reduce my group's workload to below District's mean\n",
    "### c. assign identified points to nearest *other* group(s)\n",
    "\n",
    "#maxGroup = gCenters.TotalEnrollment.idxmax()\n",
    "def reassignGroups(maxGroup):\n",
    "    # potential candidates are any location in this group, start with those farthest from group's centroid\n",
    "    candidates = tmp[tmp.group==maxGroup].sort_values('gDist', ascending=False)\n",
    "    candidates['Selected'] = 0 # column to pass through step (b) of logic\n",
    "    #candidates['pDist'] = tmp.gDist.max() # column to hold distance to potential reassignment\n",
    "    candidates['pGroup'] = maxGroup # column to update if passes through logic\n",
    "    others = tmp[tmp.group!=maxGroup]\n",
    "\n",
    "    # b.ii break criteria\n",
    "    groupCutoff = candidates['Total Enrollment'].sum() - gCenters.TotalEnrollment.mean()\n",
    "    wlShift = 0 # keep track of how much workload we're transfering\n",
    "\n",
    "    for i, r in candidates.iterrows():\n",
    "        # step b.i of reassignment logic\n",
    "        closer = {} # temporary dict to check distance criteria\n",
    "        closer['group'] = maxGroup \n",
    "        #closer['distance'] = r.gDist\n",
    "        for iC, rC in others.iterrows():\n",
    "            # distance from *this candidate* to *this other* location\n",
    "            d = geoDist(r.lat, r.lon, rC.lat, rC.lon)\n",
    "            # distance from *this other* to candidate's group center\n",
    "            groupD = geoDist(gCenters.loc[maxGroup, 'lat'], gCenters.loc[maxGroup, 'lon'], rC.lat, rC.lon)\n",
    "            # distance from *this candidate's* group center to *this other's* group center\n",
    "            groupDP = geoDist(gCenters.loc[maxGroup, 'lat'], gCenters.loc[maxGroup, 'lon'], \n",
    "                              gCenters.loc[rC.group, 'lat'], gCenters.loc[rC.group, 'lon'])\n",
    "            # check if\n",
    "            # a) candidate is closer to some point in potential new group and\n",
    "            # b) candidate is closer to old center than potential new center is to old center\n",
    "            if (d < groupD) & (r.gDist < groupDP):\n",
    "                #closer['distance'] = d if d < groupD else closer['distance']\n",
    "                closer['group'] = rC.group\n",
    "        # through other groups' locations, reassign this candidate?\n",
    "        if closer['group'] != r.group:\n",
    "            candidates.loc[i, 'Selected'] = 1\n",
    "            #candidates.loc[i, 'pDist'] = closer['distance']\n",
    "            candidates.loc[i, 'pGroup'] = closer['group']\n",
    "        #print 'i= {0} | closestGroup {1} | closestDist {2:.3f}'.format(i, closer['group'], closer['distance'])\n",
    "\n",
    "        # step b.ii of reassignment logic\n",
    "        if candidates.loc[i, 'Selected']==0:\n",
    "            continue # this row was not selected in step b.i, skip\n",
    "        else:\n",
    "            # if record would drop group below cutoff value so reset 'Selected', then continue to next record\n",
    "            if wlShift+r['Total Enrollment'] > groupCutoff:\n",
    "                candidates.loc[i, 'Selected'] = 0\n",
    "            else:\n",
    "                wlShift += r['Total Enrollment'] # increment value to shift\n",
    "                # if made here can reassign group\n",
    "                tmp.loc[i, 'group'] = candidates.loc[i, 'pGroup']\n",
    "    return 'tmp updated with reassigned schools for group %s' % (maxGroup)"
   ]
  },
  {
   "cell_type": "code",
   "execution_count": 35,
   "metadata": {
    "collapsed": false
   },
   "outputs": [
    {
     "name": "stdout",
     "output_type": "stream",
     "text": [
      "tmp updated with reassigned schools for group 1\n",
      "i 1 TE= 23509.0 | update= 17529.0\n",
      "tmp updated with reassigned schools for group 0\n",
      "i 0 TE= 10985.0 | update= 16965.0\n"
     ]
    }
   ],
   "source": [
    "for i, r in gCenters.iterrows():\n",
    "    print reassignGroups(i)\n",
    "    print 'i %s TE= %s | update= %s' % (i, r.TotalEnrollment, tmp[tmp.group==i]['Total Enrollment'].sum())"
   ]
  },
  {
   "cell_type": "code",
   "execution_count": 36,
   "metadata": {
    "collapsed": false
   },
   "outputs": [
    {
     "name": "stdout",
     "output_type": "stream",
     "text": [
      "       count    sum         mean\n",
      "group                           \n",
      "0         23  16965   737.608696\n",
      "1         15  17529  1168.600000\n"
     ]
    }
   ],
   "source": [
    "print tmp.groupby('group')['Total Enrollment'].agg({'sum', 'mean', 'count'})"
   ]
  },
  {
   "cell_type": "code",
   "execution_count": 37,
   "metadata": {
    "collapsed": true
   },
   "outputs": [],
   "source": [
    "# recalculate gCenters with new data\n",
    "gCenters = tmp.groupby(['group'])['lat', 'lon'].mean()\n",
    "gCenters = pd.merge(gCenters, tmp.groupby('group')['Total Enrollment'].agg({'TotalEnrollment': 'sum', \n",
    "                                                                           'NumSchools': 'count'}),\n",
    "                   left_index=True, right_index=True)\n"
   ]
  },
  {
   "cell_type": "code",
   "execution_count": 38,
   "metadata": {
    "collapsed": false
   },
   "outputs": [
    {
     "data": {
      "image/png": "[encoded data removed]",
      "text/plain": [
       "<matplotlib.figure.Figure at 0x7f58b3980310>"
      ]
     },
     "metadata": {},
     "output_type": "display_data"
    }
   ],
   "source": [
    "ax = gpd.GeoDataFrame(nysd[nysd.SchoolDist==dTest]).plot(figsize=(8,8))\n",
    "cols = ['m', 'y', 'b', 'orange']\n",
    "for i, g in enumerate(tmp.group.unique()):\n",
    "    ax.plot(tmp[tmp.group==g].lon, tmp[tmp.group==g].lat, 'o', c=cols[i])#, c=tmp.group)\n",
    "    ax.plot(gCenters[gCenters.index==g].lon, gCenters[gCenters.index==g].lat, '^', markersize=12, c=cols[i])"
   ]
  },
  {
   "cell_type": "code",
   "execution_count": null,
   "metadata": {
    "collapsed": true
   },
   "outputs": [],
   "source": []
  }
 ],
 "metadata": {
  "kernelspec": {
   "display_name": "Python 2",
   "language": "python",
   "name": "python2"
  },
  "language_info": {
   "codemirror_mode": {
    "name": "ipython",
    "version": 2
   },
   "file_extension": ".py",
   "mimetype": "text/x-python",
   "name": "python",
   "nbconvert_exporter": "python",
   "pygments_lexer": "ipython2",
   "version": "2.7.10"
  }
 },
 "nbformat": 4,
 "nbformat_minor": 0
}
